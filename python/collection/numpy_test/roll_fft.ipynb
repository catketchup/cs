{
 "cells": [
  {
   "cell_type": "code",
   "execution_count": 1,
   "metadata": {
    "collapsed": false
   },
   "outputs": [],
   "source": [
    "import numpy as np\n",
    "from IPython.core.interactiveshell import InteractiveShell\n",
    "InteractiveShell.ast_node_interactivity = \"all\""
   ]
  },
  {
   "cell_type": "code",
   "execution_count": 18,
   "metadata": {
    "collapsed": false
   },
   "outputs": [
    {
     "name": "stdout",
     "output_type": "stream",
     "text": [
      "N: 1024\n",
      "t: 1s\n"
     ]
    }
   ],
   "source": [
    "N = 1024\n",
    "t = np.arange(0,N, dtype=complex)/N\n",
    "print('N:',N)\n",
    "print('t: %ss'%(1))"
   ]
  },
  {
   "cell_type": "markdown",
   "metadata": {
    "collapsed": false
   },
   "source": [
    "Nyqyist-Shannon sampling theorem\n",
    "This is called the Nyquist frequency and is calculated as  𝑓𝑁𝑦𝑞𝑢𝑖𝑠𝑡=1/𝑇𝑠𝑎𝑚𝑝𝑙𝑒/2 , where  𝑇𝑠𝑎𝑚𝑝𝑙𝑒  is the time between samples."
   ]
  },
  {
   "cell_type": "code",
   "execution_count": 20,
   "metadata": {
    "collapsed": false
   },
   "outputs": [
    {
     "name": "stdout",
     "output_type": "stream",
     "text": [
      "Nyquist frequency:  512.0\n"
     ]
    }
   ],
   "source": [
    "## make an array to represent the frequency\n",
    "delta_t = (t[1]-t[0]).real  ## the step size for the t grid\n",
    "freq_nyquist = 1/delta_t/2.\n",
    "print(\"Nyquist frequency: \", freq_nyquist)\n",
    "freq = np.roll(np.linspace(-1,1,N)*freq_nyquist,int(N/2))"
   ]
  },
  {
   "cell_type": "code",
   "execution_count": 21,
   "metadata": {
    "collapsed": false
   },
   "outputs": [
    {
     "data": {
      "text/plain": [
       "array([0, 1, 2, 3, 4, 5, 6, 7, 8, 9])"
      ]
     },
     "execution_count": 21,
     "metadata": {},
     "output_type": "execute_result"
    },
    {
     "data": {
      "text/plain": [
       "array([8, 9, 0, 1, 2, 3, 4, 5, 6, 7])"
      ]
     },
     "execution_count": 21,
     "metadata": {},
     "output_type": "execute_result"
    }
   ],
   "source": [
    "x = np.arange(10)\n",
    "y = np.roll(x,2)\n",
    "x\n",
    "y"
   ]
  }
 ],
 "metadata": {
  "kernelspec": {
   "argv": [
    "/home/ketchup/tools/anaconda3/bin/python",
    "-m",
    "ipykernel_launcher",
    "-f",
    "{connection_file}"
   ],
   "display_name": "Python 3",
   "env": null,
   "interrupt_mode": "signal",
   "language": "python",
   "metadata": null,
   "name": "python3"
  },
  "name": "roll_fft.ipynb"
 },
 "nbformat": 4,
 "nbformat_minor": 2
}
