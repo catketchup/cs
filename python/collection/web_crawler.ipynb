{
 "cells": [
  {
   "cell_type": "code",
   "execution_count": 337,
   "metadata": {
    "collapsed": false
   },
   "outputs": [],
   "source": [
    "from bs4 import BeautifulSoup\n",
    "import requests"
   ]
  },
  {
   "cell_type": "code",
   "execution_count": 349,
   "metadata": {
    "collapsed": false
   },
   "outputs": [
    {
     "name": "stdout",
     "output_type": "stream",
     "text": [
      " 🤕 3312 🙏 63\n"
     ]
    }
   ],
   "source": [
    "res = requests.get(\"https://coronavirus.1point3acres.com/en\")\n",
    "soup = BeautifulSoup(res.text, 'lxml')\n",
    "# find confirmed number\n",
    "# confirm = [c for c in soup.find('div', class_='counts').section.children][1].text\n",
    "confirm = [c for c in soup.find('div', class_='counts').section][1].text\n",
    "# dead = [d for d in [c for c in soup.find('div', class_='counts').children][-1].children][-2].text\n",
    "dead = [d for d in [c for c in soup.find('div', class_='counts').children][-1]][-2].text\n",
    "\n",
    "# PAconfirm = [c for c in soup.find]\n",
    "print(f\" 🤕 {confirm} 🙏 {dead}\")\n",
    "#print(type(soup.find('div', class_='counts').section))"
   ]
  },
  {
   "cell_type": "code",
   "execution_count": 346,
   "metadata": {
    "collapsed": false
   },
   "outputs": [
    {
     "name": "stdout",
     "output_type": "stream",
     "text": [
      "🤕 63+16 🙏 0\n"
     ]
    }
   ],
   "source": [
    "PA = soup.findAll('span',class_='jsx-1168542486')\n",
    "PA_confirmed = [e for e in n][61].text\n",
    "PA_deaths = [e for e in n][62].text\n",
    "print(f\"🤕 {PA_confirmed} 🙏 {PA_deaths}\")"
   ]
  },
  {
   "cell_type": "code",
   "execution_count": 130,
   "metadata": {
    "collapsed": false
   },
   "outputs": [
    {
     "name": "stdout",
     "output_type": "stream",
     "text": [
      "<class 'bs4.element.Tag'>\n",
      "\n",
      "\n",
      "z_children:\n",
      "[<section class=\"jsx-1633900136\"><div class=\"jsx-1633900136\">新增: <span class=\"jsx-1633900136\">+308</span></div><strong class=\"jsx-1633900136\">3312</strong><div class=\"jsx-1633900136\">确诊</div></section>, <section class=\"jsx-1633900136\"><strong class=\"jsx-1633900136\">59</strong><div class=\"jsx-1633900136\">治愈</div></section>, <section class=\"jsx-1633900136\"><div class=\"jsx-1633900136\">新增: <span class=\"jsx-1633900136\">+3</span></div><strong class=\"jsx-1633900136\">63</strong><div class=\"jsx-1633900136\">死亡</div></section>]\n",
      "\n",
      "\n",
      "z_section:\n",
      "[<div class=\"jsx-1633900136\">新增: <span class=\"jsx-1633900136\">+308</span></div>, <strong class=\"jsx-1633900136\">3312</strong>, <div class=\"jsx-1633900136\">确诊</div>]\n",
      "\n",
      "\n",
      "z_section_children\n",
      "[<div class=\"jsx-1633900136\">新增: <span class=\"jsx-1633900136\">+308</span></div>, <strong class=\"jsx-1633900136\">3312</strong>, <div class=\"jsx-1633900136\">确诊</div>]\n",
      "\n",
      "\n",
      "z_children_n1\n",
      "[<div class=\"jsx-1633900136\">新增: <span class=\"jsx-1633900136\">+3</span></div>, <strong class=\"jsx-1633900136\">63</strong>, <div class=\"jsx-1633900136\">死亡</div>]\n",
      "\n",
      "\n",
      "z_children_n1_children_n2\n",
      "63\n"
     ]
    }
   ],
   "source": [
    "z = soup.find('div', class_='counts')\n",
    "print(type(z))\n",
    "z_children = [c for c in soup.find('div', class_='counts').children]\n",
    "z_section = [c for c in soup.find('div', class_='counts').section]\n",
    "print('\\n')\n",
    "print('z_children:')\n",
    "print(z_children)\n",
    "print('\\n')\n",
    "print('z_section:')\n",
    "print(z_section)\n",
    "\n",
    "z_section_children = [c for c in soup.find('div', class_='counts').section.children]\n",
    "print('\\n')\n",
    "print('z_section_children')\n",
    "print(z_section_children)\n",
    "\n",
    "z_children_n1= [d for d in [c for c in soup.find('div', class_='counts').children][-1]]\n",
    "print('\\n')\n",
    "print('z_children_n1')\n",
    "print(z_children_n1)\n",
    "\n",
    "z_children_n1_children_n2= [d for d in [c for c in soup.find('div', class_='counts').children][-1]][-2].text\n",
    "print('\\n')\n",
    "print('z_children_n1_children_n2')\n",
    "print(z_children_n1_children_n2)"
   ]
  },
  {
   "cell_type": "code",
   "execution_count": 85,
   "metadata": {
    "collapsed": false
   },
   "outputs": [
    {
     "name": "stdout",
     "output_type": "stream",
     "text": [
      "<class 'list_iterator'>\n",
      "<class 'list'>\n",
      "[<div class=\"jsx-1633900136\">新增: <span class=\"jsx-1633900136\">+308</span></div>, <strong class=\"jsx-1633900136\">3312</strong>, <div class=\"jsx-1633900136\">确诊</div>]\n",
      "<strong class=\"jsx-1633900136\">3312</strong>\n",
      "3312\n"
     ]
    }
   ],
   "source": [
    "# x is a list iterator\n",
    "x = soup.find('div', class_='counts').section.children\n",
    "print(type(x))\n",
    "# create a list from x, list itself is a class\n",
    "y = [c for c in x]\n",
    "print(type(y))\n",
    "print(y)\n",
    "print(y[1])\n",
    "print(y[1].text)"
   ]
  },
  {
   "cell_type": "code",
   "execution_count": 55,
   "metadata": {
    "collapsed": false
   },
   "outputs": [
    {
     "data": {
      "text/plain": [
       "<list_iterator at 0x7fa209620438>"
      ]
     },
     "execution_count": 55,
     "metadata": {},
     "output_type": "execute_result"
    }
   ],
   "source": [
    "soup.find('div', class_='counts')"
   ]
  },
  {
   "cell_type": "code",
   "execution_count": 27,
   "metadata": {
    "collapsed": false
   },
   "outputs": [
    {
     "data": {
      "text/plain": [
       "<div class=\"jsx-1633900136 counts\"><section class=\"jsx-1633900136\"><div class=\"jsx-1633900136\">新增: <span class=\"jsx-1633900136\">+308</span></div><strong class=\"jsx-1633900136\">3312</strong><div class=\"jsx-1633900136\">确诊</div></section><section class=\"jsx-1633900136\"><strong class=\"jsx-1633900136\">59</strong><div class=\"jsx-1633900136\">治愈</div></section><section class=\"jsx-1633900136\"><div class=\"jsx-1633900136\">新增: <span class=\"jsx-1633900136\">+3</span></div><strong class=\"jsx-1633900136\">63</strong><div class=\"jsx-1633900136\">死亡</div></section></div>"
      ]
     },
     "execution_count": 27,
     "metadata": {},
     "output_type": "execute_result"
    }
   ],
   "source": [
    "soup.find('div',class_='counts')"
   ]
  },
  {
   "cell_type": "code",
   "execution_count": 6,
   "metadata": {
    "collapsed": false
   },
   "outputs": [
    {
     "data": {
      "text/plain": [
       "True"
      ]
     },
     "execution_count": 6,
     "metadata": {},
     "output_type": "execute_result"
    }
   ],
   "source": [
    "# use webbrowser to open a website\n",
    "import webbrowser\n",
    "webbrowser.open(\"https://amazon.com/\")\n"
   ]
  },
  {
   "cell_type": "code",
   "execution_count": 14,
   "metadata": {
    "collapsed": false
   },
   "outputs": [],
   "source": [
    "# use helium: Selenium-python, 50% easier. Helium is the best Python library for web automation.\n",
    "# https://github.com/mherrmann/helium\n",
    "\n",
    "from helium import *\n",
    "start_chrome(\"https://www.amazon.com/\")\n",
    "go_to(\"https://github.com/login\")\n",
    "# write, press\n",
    "# click('Cart')"
   ]
  }
 ],
 "metadata": {
  "kernelspec": {
   "argv": [
    "/home/ketchup/tools/anaconda3/bin/python",
    "-m",
    "ipykernel_launcher",
    "-f",
    "{connection_file}"
   ],
   "display_name": "Python 3",
   "env": null,
   "interrupt_mode": "signal",
   "language": "python",
   "metadata": null,
   "name": "python3"
  },
  "name": "web_crawler.ipynb"
 },
 "nbformat": 4,
 "nbformat_minor": 2
}
