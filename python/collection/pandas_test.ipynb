{
 "cells": [
  {
   "cell_type": "code",
   "execution_count": 1,
   "metadata": {
    "collapsed": false
   },
   "outputs": [
    {
     "name": "stdout",
     "output_type": "stream",
     "text": [
      "[1 2 3 4 5]\n",
      "[1 3 5 7 9]\n",
      "df_data_1\n",
      "   x  y\n",
      "1  1  1\n",
      "2  2  3\n",
      "3  3  5\n",
      "4  4  7\n",
      "5  5  9\n",
      "df_data_2\n",
      "   x  y\n",
      "1  1  1\n",
      "2  2  3\n",
      "3  3  5\n",
      "4  4  7\n",
      "5  5  9\n",
      "import data by read_csv\n",
      "   x  y\n",
      "0  1  1\n",
      "1  2  3\n",
      "2  3  5\n",
      "3  4  7\n",
      "4  5  9\n",
      "0    1\n",
      "1    2\n",
      "2    3\n",
      "3    4\n",
      "4    5\n",
      "Name: x, dtype: int64\n",
      "[1 2 3 4 5]\n"
     ]
    }
   ],
   "source": [
    "import numpy as np\n",
    "import pandas as pd\n",
    "\n",
    "# create two numpy array\n",
    "np_x = np.arange(1, 6, 1)\n",
    "np_y = np.arange(1, 10, 2)\n",
    "print(np_x)\n",
    "print(np_y)\n",
    "\n",
    "# create a dict using ny_x and np_y\n",
    "np_data = {'x': np_x, 'y': np_y}\n",
    "\n",
    "# 1.\n",
    "# define index_1, a list\n",
    "index_1 = ['a', 'b', 'c', 'd', 'e']\n",
    "# define index_2, a numpy array\n",
    "index_2 = np_x\n",
    "\n",
    "# add np_x and np_y into a DataFrame with index\n",
    "df_data_1 = pd.DataFrame(np_data, index=index_2)\n",
    "print('df_data_1')\n",
    "print(df_data_1)\n",
    "\n",
    "# 2.\n",
    "df_data_2 = pd.DataFrame(np_data)\n",
    "df_data_2.index = index_2\n",
    "print('df_data_2')\n",
    "print(df_data_2)\n",
    "\n",
    "# export data\n",
    "df_data_1.to_csv('output/df_data.dat', index=False)\n",
    "\n",
    "# import data by pd.read_csv\n",
    "ip_df_data = pd.read_csv('output/df_data.dat')\n",
    "print('import data by read_csv')\n",
    "print(ip_df_data)\n",
    "\n",
    "# show column of 'x'\n",
    "col_1 = ip_df_data['x']\n",
    "print(col_1)\n",
    "# convert it into a np.array\n",
    "col_1 = np.array(col_1)\n",
    "print(col_1)\n"
   ]
  },
  {
   "cell_type": "code",
   "execution_count": null,
   "metadata": {
    "collapsed": false
   },
   "outputs": [],
   "source": [
    "# data, columns=, index="
   ]
  }
 ],
 "metadata": {
  "kernelspec": {
   "argv": [
    "/home/ketchup/tools/anaconda3/bin/python",
    "-m",
    "ipykernel_launcher",
    "-f",
    "{connection_file}"
   ],
   "display_name": "Python 3",
   "env": null,
   "interrupt_mode": "signal",
   "language": "python",
   "metadata": null,
   "name": "python3"
  },
  "name": "pandas_test.ipynb"
 },
 "nbformat": 4,
 "nbformat_minor": 2
}
