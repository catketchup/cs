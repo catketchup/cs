{
 "cells": [
  {
   "cell_type": "code",
   "execution_count": 1,
   "metadata": {
    "collapsed": false
   },
   "outputs": [
    {
     "name": "stdout",
     "output_type": "stream",
     "text": [
      "1\n"
     ]
    }
   ],
   "source": [
    "### an example of input arguments and docstring\n",
    "## take care of the order of arguments\n",
    "class mul():\n",
    "    \"\"\" num1**2 or num1*num2\"\"\"\n",
    "    def __init__(self, num1=[], num2=None):\n",
    "\n",
    "        self.num1 = num1\n",
    "        if num2 == None:\n",
    "            self.num2 = self.num1\n",
    "        else:\n",
    "            self.num2 = num2\n",
    "\n",
    "    def result(self):\n",
    "        \"\"\" give result\"\"\"\n",
    "        return self.num1 * self.num2\n",
    "\n",
    "\n",
    "Ope = mul(num1=1)\n",
    "Result = Ope.result()\n",
    "print(Result)\n",
    "\n",
    "# __new__, see enmap\n",
    "# *args, **kwargs key words args\n",
    "\n",
    "## inheritance\n",
    "\n",
    "# class mul_div(mul):\n",
    "#     \"\"\" num1**2 or num1*num2, num1/num2 \"\"\"\n",
    "\n",
    "#     def __new__(div):\n"
   ]
  },
  {
   "cell_type": "code",
   "execution_count": null,
   "metadata": {
    "collapsed": false
   },
   "outputs": [],
   "source": [
    "# Define arguments"
   ]
  },
  {
   "cell_type": "code",
   "execution_count": null,
   "metadata": {
    "collapsed": false
   },
   "outputs": [],
   "source": [
    "# Inheritance"
   ]
  },
  {
   "cell_type": "code",
   "execution_count": 7,
   "metadata": {
    "collapsed": false
   },
   "outputs": [],
   "source": [
    "def myfun(arg1, arg2=None):\n",
    "    return arg1,arg2"
   ]
  },
  {
   "cell_type": "code",
   "execution_count": 10,
   "metadata": {
    "collapsed": false
   },
   "outputs": [
    {
     "data": {
      "text/plain": [
       "(1, 2)"
      ]
     },
     "execution_count": 10,
     "metadata": {},
     "output_type": "execute_result"
    }
   ],
   "source": [
    "x = myfun(1,arg2=2)\n",
    "x"
   ]
  }
 ],
 "metadata": {
  "kernelspec": {
   "argv": [
    "/home/ketchup/tools/anaconda3/bin/python",
    "-m",
    "ipykernel_launcher",
    "-f",
    "{connection_file}"
   ],
   "display_name": "Python 3",
   "env": null,
   "interrupt_mode": "signal",
   "language": "python",
   "metadata": null,
   "name": "python3"
  },
  "name": "module_test.ipynb"
 },
 "nbformat": 4,
 "nbformat_minor": 2
}
