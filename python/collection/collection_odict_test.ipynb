{
 "cells": [
  {
   "cell_type": "code",
   "execution_count": 2,
   "metadata": {
    "collapsed": false
   },
   "outputs": [],
   "source": [
    "import collections\n",
    "from collections import OrderedDict as odict"
   ]
  },
  {
   "cell_type": "code",
   "execution_count": 6,
   "metadata": {
    "collapsed": false
   },
   "outputs": [
    {
     "name": "stdout",
     "output_type": "stream",
     "text": [
      "Regular dictionary\n",
      "a A\n",
      "b B\n",
      "c C\n",
      "Order dictionary\n",
      "a A\n",
      "b B\n",
      "c C\n",
      "1 1\n",
      "2 2\n"
     ]
    }
   ],
   "source": [
    "print(\"Regular dictionary\")\n",
    "d={}\n",
    "d['a']='A'\n",
    "d['b']='B'\n",
    "d['c']='C'\n",
    "for k,v in d.items():\n",
    "    print(k,v)\n",
    "print (\"Order dictionary\")\n",
    "d1 = collections.OrderedDict()\n",
    "d1['a'] = 'A'\n",
    "d1['b'] = 'B'\n",
    "d1['c'] = 'C'\n",
    "d1['1'] = '1'\n",
    "d1['2'] = '2'\n",
    "for k,v in d1.items():\n",
    "    print(k,v)"
   ]
  }
 ],
 "metadata": {
  "kernelspec": {
   "argv": [
    "/home/ketchup/tools/anaconda3/bin/python",
    "-m",
    "ipykernel_launcher",
    "-f",
    "{connection_file}"
   ],
   "display_name": "Python 3",
   "env": null,
   "interrupt_mode": "signal",
   "language": "python",
   "metadata": null,
   "name": "python3"
  },
  "name": "collection_odict_test.ipynb"
 },
 "nbformat": 4,
 "nbformat_minor": 2
}
