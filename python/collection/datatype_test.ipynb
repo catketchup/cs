{
 "cells": [
  {
   "cell_type": "code",
   "execution_count": 1,
   "metadata": {
    "collapsed": false
   },
   "outputs": [],
   "source": [
    "import numpy as np\n",
    "from IPython.core.interactiveshell import InteractiveShell\n",
    "InteractiveShell.ast_node_interactivity = \"all\""
   ]
  },
  {
   "cell_type": "code",
   "execution_count": 2,
   "metadata": {
    "collapsed": false
   },
   "outputs": [
    {
     "name": "stdout",
     "output_type": "stream",
     "text": [
      "1\n",
      "2\n",
      "3\n"
     ]
    }
   ],
   "source": [
    "# list\n",
    "list = [1, 2, 3]\n",
    "for i in list:\n",
    "    print(i)"
   ]
  },
  {
   "cell_type": "code",
   "execution_count": 3,
   "metadata": {
    "collapsed": false
   },
   "outputs": [
    {
     "name": "stdout",
     "output_type": "stream",
     "text": [
      "HK416\n",
      "67\n"
     ]
    }
   ],
   "source": [
    "# dictionary\n",
    "mydict = {\"Rifle\": \"HK416\", \"Pistol\": \"P320\", \"Number\": 67}\n",
    "print(mydict[\"Rifle\"])\n",
    "print(mydict[\"Number\"])"
   ]
  },
  {
   "cell_type": "code",
   "execution_count": 29,
   "metadata": {
    "collapsed": false
   },
   "outputs": [
    {
     "data": {
      "text/plain": [
       "['Planck_SMICA', 'CMB_S3', 'CMB_S4']"
      ]
     },
     "execution_count": 29,
     "metadata": {},
     "output_type": "execute_result"
    },
    {
     "data": {
      "text/plain": [
       "[[45, 5], [7, 1.4], [1, 3]]"
      ]
     },
     "execution_count": 29,
     "metadata": {},
     "output_type": "execute_result"
    }
   ],
   "source": [
    "# multiple values\n",
    "experiments = {'Planck_SMICA':[45,5], 'CMB_S3':[7,1.4], 'CMB_S4':[1,3]}\n",
    "\n",
    "# get keys from a dict\n",
    "experiments_names = [name for name in experiments.keys()]\n",
    "experiments_names\n",
    "\n",
    "# get values from a dict\n",
    "experiments_parameters = [parameters for parameters in experiments.values()]\n",
    "experiments_parameters"
   ]
  },
  {
   "cell_type": "code",
   "execution_count": 26,
   "metadata": {
    "collapsed": false
   },
   "outputs": [
    {
     "data": {
      "text/plain": [
       "dict_keys(['Planck_SMICA', 'CMB_S3', 'CMB_S4'])"
      ]
     },
     "execution_count": 26,
     "metadata": {},
     "output_type": "execute_result"
    },
    {
     "data": {
      "text/plain": [
       "dict_values([[45, 5], [7, 1.4], [1, 3]])"
      ]
     },
     "execution_count": 26,
     "metadata": {},
     "output_type": "execute_result"
    },
    {
     "data": {
      "text/plain": [
       "dict_items([('Planck_SMICA', [45, 5]), ('CMB_S3', [7, 1.4]), ('CMB_S4', [1, 3])])"
      ]
     },
     "execution_count": 26,
     "metadata": {},
     "output_type": "execute_result"
    }
   ],
   "source": [
    "experiments.keys()\n",
    "experiments.values()\n",
    "experiments.items()"
   ]
  },
  {
   "cell_type": "code",
   "execution_count": 41,
   "metadata": {
    "collapsed": false
   },
   "outputs": [],
   "source": [
    "# loop in dict.items()\n",
    "for experiment, value in experiments.items():\n",
    "    experiment_name = experiment\n",
    "    nlev_t = value[0]\n",
    "    beam_arcmin = value[1]"
   ]
  }
 ],
 "metadata": {
  "kernelspec": {
   "argv": [
    "/home/ketchup/tools/anaconda3/bin/python",
    "-m",
    "ipykernel_launcher",
    "-f",
    "{connection_file}"
   ],
   "display_name": "Python 3",
   "env": null,
   "interrupt_mode": "signal",
   "language": "python",
   "metadata": null,
   "name": "python3"
  },
  "name": "datatype_test.ipynb"
 },
 "nbformat": 4,
 "nbformat_minor": 2
}
