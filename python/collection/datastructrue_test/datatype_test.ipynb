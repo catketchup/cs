{
 "cells": [
  {
   "cell_type": "code",
   "execution_count": 1,
   "metadata": {
    "collapsed": false
   },
   "outputs": [],
   "source": [
    "import numpy as np\n",
    "from IPython.core.interactiveshell import InteractiveShell\n",
    "InteractiveShell.ast_node_interactivity = \"all\""
   ]
  },
  {
   "cell_type": "code",
   "execution_count": 8,
   "metadata": {
    "collapsed": false
   },
   "outputs": [
    {
     "name": "stdout",
     "output_type": "stream",
     "text": [
      "1\n",
      "2\n",
      "3\n",
      "5\n"
     ]
    },
    {
     "data": {
      "text/plain": [
       "4"
      ]
     },
     "execution_count": 8,
     "metadata": {},
     "output_type": "execute_result"
    },
    {
     "data": {
      "text/plain": [
       "4"
      ]
     },
     "execution_count": 8,
     "metadata": {},
     "output_type": "execute_result"
    },
    {
     "data": {
      "text/plain": [
       "11"
      ]
     },
     "execution_count": 8,
     "metadata": {},
     "output_type": "execute_result"
    },
    {
     "data": {
      "text/plain": [
       "11"
      ]
     },
     "execution_count": 8,
     "metadata": {},
     "output_type": "execute_result"
    }
   ],
   "source": [
    "# list\n",
    "list = [1, 2, 3, 5]\n",
    "for i in list:\n",
    "    print(i)\n",
    "\n",
    "# lens() can both work on list and np.array\n",
    "len(list)\n",
    "np_array = np.array(list)\n",
    "len(np_array)\n",
    "\n",
    "# sum can both work on list and np.array\n",
    "sum(list)\n",
    "sum(np_array)"
   ]
  },
  {
   "cell_type": "code",
   "execution_count": 3,
   "metadata": {
    "collapsed": false
   },
   "outputs": [
    {
     "name": "stdout",
     "output_type": "stream",
     "text": [
      "HK416\n",
      "67\n"
     ]
    },
    {
     "data": {
      "text/plain": [
       "{'Rifle': 'HK416', 'Pistol': 'P320', 'Number': 67, 'bag 1': 1}"
      ]
     },
     "execution_count": 3,
     "metadata": {},
     "output_type": "execute_result"
    }
   ],
   "source": [
    "# dictionary\n",
    "mydict = {\"Rifle\": \"HK416\", \"Pistol\": \"P320\", \"Number\": 67}\n",
    "print(mydict[\"Rifle\"])\n",
    "print(mydict[\"Number\"])\n",
    "# add an item\n",
    "x = 1\n",
    "mydict['bag %s' %(x)] = 1\n",
    "mydict"
   ]
  },
  {
   "cell_type": "code",
   "execution_count": 4,
   "metadata": {
    "collapsed": false
   },
   "outputs": [
    {
     "data": {
      "text/plain": [
       "['Planck_SMICA', 'CMB_S3', 'CMB_S4']"
      ]
     },
     "execution_count": 4,
     "metadata": {},
     "output_type": "execute_result"
    },
    {
     "data": {
      "text/plain": [
       "[[45, 5], [7, 1.4], [1, 3]]"
      ]
     },
     "execution_count": 4,
     "metadata": {},
     "output_type": "execute_result"
    }
   ],
   "source": [
    "# multiple values\n",
    "experiments = {'Planck_SMICA':[45,5], 'CMB_S3':[7,1.4], 'CMB_S4':[1,3]}\n",
    "\n",
    "# get keys from a dict\n",
    "experiments_names = [name for name in experiments.keys()]\n",
    "experiments_names\n",
    "\n",
    "# get values from a dict\n",
    "experiments_parameters = [parameters for parameters in experiments.values()]\n",
    "experiments_parameters"
   ]
  },
  {
   "cell_type": "code",
   "execution_count": 5,
   "metadata": {
    "collapsed": false
   },
   "outputs": [
    {
     "data": {
      "text/plain": [
       "dict_keys(['Planck_SMICA', 'CMB_S3', 'CMB_S4'])"
      ]
     },
     "execution_count": 5,
     "metadata": {},
     "output_type": "execute_result"
    },
    {
     "data": {
      "text/plain": [
       "dict_values([[45, 5], [7, 1.4], [1, 3]])"
      ]
     },
     "execution_count": 5,
     "metadata": {},
     "output_type": "execute_result"
    },
    {
     "data": {
      "text/plain": [
       "dict_items([('Planck_SMICA', [45, 5]), ('CMB_S3', [7, 1.4]), ('CMB_S4', [1, 3])])"
      ]
     },
     "execution_count": 5,
     "metadata": {},
     "output_type": "execute_result"
    }
   ],
   "source": [
    "experiments.keys()\n",
    "experiments.values()\n",
    "experiments.items()"
   ]
  },
  {
   "cell_type": "code",
   "execution_count": 6,
   "metadata": {
    "collapsed": false
   },
   "outputs": [],
   "source": [
    "# loop in dict.items()\n",
    "for experiment, value in experiments.items():\n",
    "    experiment_name = experiment\n",
    "    nlev_t = value[0]\n",
    "    beam_arcmin = value[1]"
   ]
  },
  {
   "cell_type": "code",
   "execution_count": 8,
   "metadata": {
    "collapsed": false
   },
   "outputs": [],
   "source": [
    "# dict in dict\n",
    "experiments = {\n",
    "    'Planck_SMICA': {\n",
    "        'nlev_t': 45,\n",
    "        'beam_arcmin': 5\n",
    "    },\n",
    "    'CMB_S3': {\n",
    "        'nlev_t': 7,\n",
    "        'beam_arcmin': 1.4\n",
    "    },\n",
    "    'CMB_S4': {\n",
    "        'nlev_t': 1,\n",
    "        'beam_arcmin': 3\n",
    "    },\n",
    "    'reference': {\n",
    "        'nlev_t': 0,\n",
    "        'beam_arcmin': 3\n",
    "    }\n",
    "}\n"
   ]
  },
  {
   "cell_type": "code",
   "execution_count": 14,
   "metadata": {
    "collapsed": false
   },
   "outputs": [
    {
     "data": {
      "text/plain": [
       "{'nlev_t': 45, 'beam_arcmin': 5}"
      ]
     },
     "execution_count": 14,
     "metadata": {},
     "output_type": "execute_result"
    },
    {
     "data": {
      "text/plain": [
       "45"
      ]
     },
     "execution_count": 14,
     "metadata": {},
     "output_type": "execute_result"
    }
   ],
   "source": [
    "experiments['Planck_SMICA']\n",
    "experiments['Planck_SMICA']['nlev_t']"
   ]
  },
  {
   "cell_type": "code",
   "execution_count": null,
   "metadata": {
    "collapsed": false
   },
   "outputs": [],
   "source": [
    "Data_dict = {}"
   ]
  }
 ],
 "metadata": {
  "kernelspec": {
   "argv": [
    "/home/ketchup/tools/anaconda3/bin/python",
    "-m",
    "ipykernel_launcher",
    "-f",
    "{connection_file}"
   ],
   "display_name": "Python 3",
   "env": null,
   "interrupt_mode": "signal",
   "language": "python",
   "metadata": null,
   "name": "python3"
  },
  "name": "datatype_test.ipynb"
 },
 "nbformat": 4,
 "nbformat_minor": 2
}
