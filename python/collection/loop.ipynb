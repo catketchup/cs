{
 "cells": [
  {
   "cell_type": "code",
   "execution_count": 1,
   "metadata": {
    "collapsed": false
   },
   "outputs": [],
   "source": [
    "import numpy as np\n",
    "import ipdb\n",
    "from IPython.core.interactiveshell import InteractiveShell\n",
    "InteractiveShell.ast_node_interactivity = \"all\""
   ]
  },
  {
   "cell_type": "code",
   "execution_count": 2,
   "metadata": {
    "collapsed": false
   },
   "outputs": [
    {
     "data": {
      "text/plain": [
       "[0, 1, 4, 9, 16]"
      ]
     },
     "execution_count": 2,
     "metadata": {},
     "output_type": "execute_result"
    }
   ],
   "source": [
    "list = [x**2 for x in range(5)]\n",
    "list"
   ]
  },
  {
   "cell_type": "code",
   "execution_count": 3,
   "metadata": {
    "collapsed": false
   },
   "outputs": [
    {
     "name": "stdout",
     "output_type": "stream",
     "text": [
      "0, 0 /n\n",
      "1, 1 /n\n",
      "2, 4 /n\n",
      "3, 9 /n\n",
      "4, 16 /n\n"
     ]
    }
   ],
   "source": [
    "for i, value in enumerate(list):\n",
    "    print('%s, %s /n' %(i, value))"
   ]
  },
  {
   "cell_type": "code",
   "execution_count": 4,
   "metadata": {
    "collapsed": false
   },
   "outputs": [],
   "source": [
    "for i in range(3):\n",
    "    for j in range(4):\n",
    "        if j==1:\n",
    "            break"
   ]
  },
  {
   "cell_type": "code",
   "execution_count": 5,
   "metadata": {
    "collapsed": false
   },
   "outputs": [],
   "source": [
    "Points = np.array([1, 3, 6])\n",
    "Ranges = np.array([[0,1,2], [2,3,4], [4,5], [6,7], [8]])\n",
    "Points = np.array([1, 3])\n",
    "Ranges = np.array([[0,1,2], [2,3,4]])"
   ]
  },
  {
   "cell_type": "code",
   "execution_count": 6,
   "metadata": {
    "collapsed": false
   },
   "outputs": [
    {
     "name": "stdout",
     "output_type": "stream",
     "text": [
      "1 3\n"
     ]
    }
   ],
   "source": [
    "for i, value in enumerate(Points[1:]):\n",
    "    print(i+1, value)"
   ]
  },
  {
   "cell_type": "code",
   "execution_count": 7,
   "metadata": {
    "collapsed": false
   },
   "outputs": [],
   "source": [
    "class PositiveRate():\n",
    "    \"\"\" Test flags.get_glitch_flags true positive rate and false positive rate \"\"\"\n",
    "    def __init__(self, tod, height):\n",
    "        self.tod = tod\n",
    "        self.height = height"
   ]
  },
  {
   "cell_type": "code",
   "execution_count": 8,
   "metadata": {
    "collapsed": false
   },
   "outputs": [],
   "source": [
    "def in_range(Points, Ranges):\n",
    "    results = np.zeros_like(Ranges[:,0])\n",
    "    for i, Range in enumerate(Ranges):\n",
    "        count = 0\n",
    "        for j, Point in enumerate(Points[count:]):\n",
    "            if Point in range(Range[0], Range[-1]):\n",
    "                results[i] = 1\n",
    "                count = count+1\n",
    "                break\n",
    "            if j == len(Points)-1:\n",
    "                results[i] = 0\n",
    "    return results\n"
   ]
  },
  {
   "cell_type": "code",
   "execution_count": 9,
   "metadata": {
    "collapsed": false
   },
   "outputs": [
    {
     "data": {
      "text/plain": [
       "array([1, 0, 1, 1])"
      ]
     },
     "execution_count": 9,
     "metadata": {},
     "output_type": "execute_result"
    }
   ],
   "source": [
    "Points1 = np.array([1, 10, 15])\n",
    "Ranges1 = np.array([[0,2], [2,4], [10,12], [14,16]])\n",
    "Results1 = in_range(Points1, Ranges1)\n",
    "Results1"
   ]
  },
  {
   "cell_type": "code",
   "execution_count": 10,
   "metadata": {
    "collapsed": false
   },
   "outputs": [],
   "source": [
    "def true_positive_rate(results):\n",
    "    return (np.sum(results)/np.size(results))*100\n",
    "\n",
    "def false_positive_rate(results):\n",
    "    return (1-np.sum(results)/np.size(results))*100"
   ]
  }
 ],
 "metadata": {
  "kernelspec": {
   "argv": [
    "/home/ketchup/tools/anaconda3/bin/python",
    "-m",
    "ipykernel_launcher",
    "-f",
    "{connection_file}"
   ],
   "display_name": "Python 3",
   "env": null,
   "interrupt_mode": "signal",
   "language": "python",
   "metadata": null,
   "name": "python3"
  },
  "name": "loop.ipynb"
 },
 "nbformat": 4,
 "nbformat_minor": 2
}
