{
 "cells": [
  {
   "cell_type": "code",
   "execution_count": 20,
   "metadata": {
    "collapsed": false
   },
   "outputs": [],
   "source": [
    "from IPython.core.interactiveshell import InteractiveShell\n",
    "InteractiveShell.ast_node_interactivity = \"all\""
   ]
  },
  {
   "cell_type": "markdown",
   "metadata": {
    "collapsed": false
   },
   "source": [
    "Test __repr method"
   ]
  },
  {
   "cell_type": "code",
   "execution_count": 55,
   "metadata": {
    "collapsed": false
   },
   "outputs": [],
   "source": [
    "class SpM():\n",
    "    def __init__(self, a, b):\n",
    "        self.a = a\n",
    "        self.b = b\n",
    "    def __repr__(self):\n",
    "        # it decides what are returned when the instance is called\n",
    "        return f'test __repr__, {self.a}, {self.b}'\n",
    "    def plus(self):\n",
    "        return self.a + self.b"
   ]
  },
  {
   "cell_type": "code",
   "execution_count": 22,
   "metadata": {
    "collapsed": false
   },
   "outputs": [
    {
     "data": {
      "text/plain": [
       "test __repr__, 1, 2"
      ]
     },
     "execution_count": 22,
     "metadata": {},
     "output_type": "execute_result"
    }
   ],
   "source": [
    "my_spm = SpM(1,2)\n",
    "my_spm"
   ]
  },
  {
   "cell_type": "markdown",
   "metadata": {
    "collapsed": false
   },
   "source": [
    "Test Context method in https://github.com/simonsobs/sotodlib/blob/master/sotodlib/core/context.py, also test how it inherits 'OrdereDict' class and how the '__repr' method works in it."
   ]
  },
  {
   "cell_type": "code",
   "execution_count": 33,
   "metadata": {
    "collapsed": false
   },
   "outputs": [],
   "source": [
    "from collections import OrderedDict as odict\n",
    "import yaml\n",
    "import os\n",
    "\n",
    "class Context(odict):\n",
    "    def __init__(self, dict_data):\n",
    "        self.dict_data = dict_data\n",
    "        # self.update is a odict's method\n",
    "        self.update(self.dict_data)"
   ]
  },
  {
   "cell_type": "code",
   "execution_count": 43,
   "metadata": {
    "collapsed": false
   },
   "outputs": [
    {
     "name": "stdout",
     "output_type": "stream",
     "text": [
      "{'tags': {'sim_base_dir': '/global/project/projectdirs/sobs/todsims/pipe-s0001/v4', 'meta_dir': '/global/project/projectdirs/sobs/todsims/pipe-s0001/v4'}, 'obsfiledb': '{meta_dir}/obsfiledb.sqlite', 'detdb': '{meta_dir}/detdb_lat.gz', 'obsdb': '{meta_dir}/obsdb.gz', 'obs_colon_tags': ['band', 'wafer', 'fcode'], 'obs_loader_type': 'pipe-s0001', 'metadata': [{'db': '{meta_dir}/focalplane.gz', 'name': 'focal_plane'}]}\n"
     ]
    },
    {
     "name": "stderr",
     "output_type": "stream",
     "text": [
      "/home/ketchup/tools/anaconda3/lib/python3.7/site-packages/ipykernel_launcher.py:3: YAMLLoadWarning: calling yaml.load() without Loader=... is deprecated, as the default Loader is unsafe. Please read https://msg.pyyaml.org/load for full details.\n",
      "  This is separate from the ipykernel package so we can avoid doing imports until\n"
     ]
    },
    {
     "data": {
      "text/plain": [
       "dict"
      ]
     },
     "execution_count": 43,
     "metadata": {},
     "output_type": "execute_result"
    }
   ],
   "source": [
    "# read in yaml file as a dict\n",
    "with open('context.yaml') as f:\n",
    "    dict_data = yaml.load(f)\n",
    "    print(dict_data)\n",
    "type(dict_data)"
   ]
  },
  {
   "cell_type": "code",
   "execution_count": 48,
   "metadata": {
    "collapsed": false
   },
   "outputs": [
    {
     "data": {
      "text/plain": [
       "Context([('tags',\n",
       "          {'sim_base_dir': '/global/project/projectdirs/sobs/todsims/pipe-s0001/v4',\n",
       "           'meta_dir': '/global/project/projectdirs/sobs/todsims/pipe-s0001/v4'}),\n",
       "         ('obsfiledb', '{meta_dir}/obsfiledb.sqlite'),\n",
       "         ('detdb', '{meta_dir}/detdb_lat.gz'),\n",
       "         ('obsdb', '{meta_dir}/obsdb.gz'),\n",
       "         ('obs_colon_tags', ['band', 'wafer', 'fcode']),\n",
       "         ('obs_loader_type', 'pipe-s0001'),\n",
       "         ('metadata',\n",
       "          [{'db': '{meta_dir}/focalplane.gz', 'name': 'focal_plane'}])])"
      ]
     },
     "execution_count": 48,
     "metadata": {},
     "output_type": "execute_result"
    },
    {
     "data": {
      "text/plain": [
       "{'sim_base_dir': '/global/project/projectdirs/sobs/todsims/pipe-s0001/v4',\n",
       " 'meta_dir': '/global/project/projectdirs/sobs/todsims/pipe-s0001/v4'}"
      ]
     },
     "execution_count": 48,
     "metadata": {},
     "output_type": "execute_result"
    }
   ],
   "source": [
    "context = Context(dict_data)\n",
    "context\n",
    "context['tags']"
   ]
  },
  {
   "cell_type": "markdown",
   "metadata": {
    "collapsed": false
   },
   "source": [
    "Let class's instance(statement?) be another class/object "
   ]
  },
  {
   "cell_type": "code",
   "execution_count": 56,
   "metadata": {
    "collapsed": false
   },
   "outputs": [],
   "source": [
    "class InstanceTest():\n",
    "    def __init__(self, a, b):\n",
    "        self.a = a\n",
    "        self.b = b\n",
    "        self.sum = SpM(self.a, self.b)\n",
    "\n",
    "    def multiply(self):\n",
    "        return self.a * self.b"
   ]
  },
  {
   "cell_type": "code",
   "execution_count": 59,
   "metadata": {
    "collapsed": false
   },
   "outputs": [
    {
     "data": {
      "text/plain": [
       "3"
      ]
     },
     "execution_count": 59,
     "metadata": {},
     "output_type": "execute_result"
    }
   ],
   "source": [
    "instancetest = InstanceTest(1,2)\n",
    "instancetest.sum.plus()"
   ]
  }
 ],
 "metadata": {
  "kernelspec": {
   "argv": [
    "/home/ketchup/tools/anaconda3/bin/python",
    "-m",
    "ipykernel_launcher",
    "-f",
    "{connection_file}"
   ],
   "display_name": "Python 3",
   "env": null,
   "interrupt_mode": "signal",
   "language": "python",
   "metadata": null,
   "name": "python3"
  },
  "name": "specialmethods_test.ipynb"
 },
 "nbformat": 4,
 "nbformat_minor": 2
}
