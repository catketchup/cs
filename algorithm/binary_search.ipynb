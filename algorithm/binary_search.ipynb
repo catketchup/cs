{
 "cells": [
  {
   "cell_type": "code",
   "execution_count": null,
   "metadata": {
    "collapsed": false
   },
   "outputs": [],
   "source": [
    "# define function is always the first step\n",
    "def binary_search(list, item):\n",
    "    low = 0\n",
    "    high = len(list) - 1\n",
    "\n",
    "    while low "
   ]
  }
 ],
 "metadata": {
  "kernelspec": {
   "argv": [
    "/home/ketchup/tools/anaconda3/bin/python",
    "-m",
    "ipykernel_launcher",
    "-f",
    "{connection_file}"
   ],
   "display_name": "Python 3",
   "env": null,
   "interrupt_mode": "signal",
   "language": "python",
   "metadata": null,
   "name": "python3"
  },
  "name": "binary_search.ipynb"
 },
 "nbformat": 4,
 "nbformat_minor": 2
}
